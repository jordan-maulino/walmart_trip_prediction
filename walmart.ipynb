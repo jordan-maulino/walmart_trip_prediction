{
 "metadata": {
  "language_info": {
   "codemirror_mode": {
    "name": "ipython",
    "version": 3
   },
   "file_extension": ".py",
   "mimetype": "text/x-python",
   "name": "python",
   "nbconvert_exporter": "python",
   "pygments_lexer": "ipython3",
   "version": "3.8.3-final"
  },
  "orig_nbformat": 2,
  "kernelspec": {
   "name": "python_defaultSpec_1611633334718",
   "display_name": "Python 3.8.3 64-bit ('base': conda)"
  }
 },
 "nbformat": 4,
 "nbformat_minor": 2,
 "cells": [
  {
   "cell_type": "markdown",
   "metadata": {},
   "source": [
    "# Walmart Trip Classification\n",
    "\n",
    "<br>\n",
    "<br>\n",
    "\n"
   ]
  },
  {
   "cell_type": "code",
   "execution_count": 1,
   "metadata": {},
   "outputs": [
    {
     "output_type": "execute_result",
     "data": {
      "text/plain": "   TripType  VisitNumber  ...  DepartmentDescription  FinelineNumber\n0       999            5  ...     FINANCIAL SERVICES          1000.0\n1        30            7  ...                  SHOES          8931.0\n2        30            7  ...          PERSONAL CARE          4504.0\n3        26            8  ...  PAINT AND ACCESSORIES          3565.0\n4        26            8  ...  PAINT AND ACCESSORIES          1017.0\n\n[5 rows x 7 columns]",
      "text/html": "<div>\n<style scoped>\n    .dataframe tbody tr th:only-of-type {\n        vertical-align: middle;\n    }\n\n    .dataframe tbody tr th {\n        vertical-align: top;\n    }\n\n    .dataframe thead th {\n        text-align: right;\n    }\n</style>\n<table border=\"1\" class=\"dataframe\">\n  <thead>\n    <tr style=\"text-align: right;\">\n      <th></th>\n      <th>TripType</th>\n      <th>VisitNumber</th>\n      <th>Weekday</th>\n      <th>Upc</th>\n      <th>ScanCount</th>\n      <th>DepartmentDescription</th>\n      <th>FinelineNumber</th>\n    </tr>\n  </thead>\n  <tbody>\n    <tr>\n      <th>0</th>\n      <td>999</td>\n      <td>5</td>\n      <td>Friday</td>\n      <td>6.811315e+10</td>\n      <td>-1</td>\n      <td>FINANCIAL SERVICES</td>\n      <td>1000.0</td>\n    </tr>\n    <tr>\n      <th>1</th>\n      <td>30</td>\n      <td>7</td>\n      <td>Friday</td>\n      <td>6.053882e+10</td>\n      <td>1</td>\n      <td>SHOES</td>\n      <td>8931.0</td>\n    </tr>\n    <tr>\n      <th>2</th>\n      <td>30</td>\n      <td>7</td>\n      <td>Friday</td>\n      <td>7.410811e+09</td>\n      <td>1</td>\n      <td>PERSONAL CARE</td>\n      <td>4504.0</td>\n    </tr>\n    <tr>\n      <th>3</th>\n      <td>26</td>\n      <td>8</td>\n      <td>Friday</td>\n      <td>2.238404e+09</td>\n      <td>2</td>\n      <td>PAINT AND ACCESSORIES</td>\n      <td>3565.0</td>\n    </tr>\n    <tr>\n      <th>4</th>\n      <td>26</td>\n      <td>8</td>\n      <td>Friday</td>\n      <td>2.006614e+09</td>\n      <td>2</td>\n      <td>PAINT AND ACCESSORIES</td>\n      <td>1017.0</td>\n    </tr>\n  </tbody>\n</table>\n</div>"
     },
     "metadata": {},
     "execution_count": 1
    }
   ],
   "source": [
    "import pandas as pd\n",
    "import numpy as np\n",
    "\n",
    "walmart = pd.read_csv('train.csv')\n",
    "\n",
    "walmart.head()"
   ]
  },
  {
   "cell_type": "markdown",
   "metadata": {},
   "source": [
    "### Data description from the competition page...\n",
    "\n",
    "<br>\n",
    "\n",
    "\n",
    "TripType - a categorical id representing the type of shopping trip the customer made. This is the ground truth that you are predicting. TripType_999 is an \"other\" category. <br>\n",
    "<br>\n",
    "VisitNumber - an id corresponding to a single trip by a single customer <br>\n",
    "<br>\n",
    "Weekday - the weekday of the trip <br>\n",
    "<br>\n",
    "Upc - the UPC number of the product purchased <br>\n",
    "<br>\n",
    "ScanCount - the number of the given item that was purchased. A negative value indicates a product return. <br>\n",
    "<br>\n",
    "DepartmentDescription - a high-level description of the item's department <br>\n",
    "<br>\n",
    "FinelineNumber - a more refined category for each of the products, created by Walmart <br>"
   ]
  },
  {
   "cell_type": "code",
   "execution_count": 5,
   "metadata": {
    "tags": []
   },
   "outputs": [
    {
     "output_type": "stream",
     "name": "stdout",
     "text": "<class 'pandas.core.frame.DataFrame'>\nRangeIndex: 647054 entries, 0 to 647053\nData columns (total 7 columns):\n #   Column                 Non-Null Count   Dtype  \n---  ------                 --------------   -----  \n 0   TripType               647054 non-null  int64  \n 1   VisitNumber            647054 non-null  int64  \n 2   Weekday                647054 non-null  object \n 3   Upc                    642925 non-null  float64\n 4   ScanCount              647054 non-null  int64  \n 5   DepartmentDescription  645693 non-null  object \n 6   FinelineNumber         642925 non-null  float64\ndtypes: float64(2), int64(3), object(2)\nmemory usage: 34.6+ MB\n"
    }
   ],
   "source": [
    "walmart.info()"
   ]
  },
  {
   "cell_type": "code",
   "execution_count": 6,
   "metadata": {},
   "outputs": [
    {
     "output_type": "execute_result",
     "data": {
      "text/plain": "            TripType    VisitNumber  ...      ScanCount  FinelineNumber\ncount  647054.000000  647054.000000  ...  647054.000000   642925.000000\nmean       58.584511   96167.640078  ...       1.108878     3726.884567\nstd       157.635533   55545.485154  ...       0.700776     2780.966158\nmin         3.000000       5.000000  ...     -12.000000        0.000000\n25%        27.000000   49268.000000  ...       1.000000     1404.000000\n50%        39.000000   97074.000000  ...       1.000000     3352.000000\n75%        40.000000  144316.000000  ...       1.000000     5501.000000\nmax       999.000000  191347.000000  ...      71.000000     9998.000000\n\n[8 rows x 5 columns]",
      "text/html": "<div>\n<style scoped>\n    .dataframe tbody tr th:only-of-type {\n        vertical-align: middle;\n    }\n\n    .dataframe tbody tr th {\n        vertical-align: top;\n    }\n\n    .dataframe thead th {\n        text-align: right;\n    }\n</style>\n<table border=\"1\" class=\"dataframe\">\n  <thead>\n    <tr style=\"text-align: right;\">\n      <th></th>\n      <th>TripType</th>\n      <th>VisitNumber</th>\n      <th>Upc</th>\n      <th>ScanCount</th>\n      <th>FinelineNumber</th>\n    </tr>\n  </thead>\n  <tbody>\n    <tr>\n      <th>count</th>\n      <td>647054.000000</td>\n      <td>647054.000000</td>\n      <td>6.429250e+05</td>\n      <td>647054.000000</td>\n      <td>642925.000000</td>\n    </tr>\n    <tr>\n      <th>mean</th>\n      <td>58.584511</td>\n      <td>96167.640078</td>\n      <td>3.060698e+10</td>\n      <td>1.108878</td>\n      <td>3726.884567</td>\n    </tr>\n    <tr>\n      <th>std</th>\n      <td>157.635533</td>\n      <td>55545.485154</td>\n      <td>9.120134e+10</td>\n      <td>0.700776</td>\n      <td>2780.966158</td>\n    </tr>\n    <tr>\n      <th>min</th>\n      <td>3.000000</td>\n      <td>5.000000</td>\n      <td>8.340000e+02</td>\n      <td>-12.000000</td>\n      <td>0.000000</td>\n    </tr>\n    <tr>\n      <th>25%</th>\n      <td>27.000000</td>\n      <td>49268.000000</td>\n      <td>3.400001e+09</td>\n      <td>1.000000</td>\n      <td>1404.000000</td>\n    </tr>\n    <tr>\n      <th>50%</th>\n      <td>39.000000</td>\n      <td>97074.000000</td>\n      <td>7.050103e+09</td>\n      <td>1.000000</td>\n      <td>3352.000000</td>\n    </tr>\n    <tr>\n      <th>75%</th>\n      <td>40.000000</td>\n      <td>144316.000000</td>\n      <td>3.006531e+10</td>\n      <td>1.000000</td>\n      <td>5501.000000</td>\n    </tr>\n    <tr>\n      <th>max</th>\n      <td>999.000000</td>\n      <td>191347.000000</td>\n      <td>9.789707e+11</td>\n      <td>71.000000</td>\n      <td>9998.000000</td>\n    </tr>\n  </tbody>\n</table>\n</div>"
     },
     "metadata": {},
     "execution_count": 6
    }
   ],
   "source": [
    "walmart.describe()"
   ]
  },
  {
   "cell_type": "code",
   "execution_count": 7,
   "metadata": {},
   "outputs": [
    {
     "output_type": "execute_result",
     "data": {
      "text/plain": "TripType                    0\nVisitNumber                 0\nWeekday                     0\nUpc                      4129\nScanCount                   0\nDepartmentDescription    1361\nFinelineNumber           4129\ndtype: int64"
     },
     "metadata": {},
     "execution_count": 7
    }
   ],
   "source": [
    "walmart.isnull().sum()"
   ]
  },
  {
   "cell_type": "markdown",
   "metadata": {},
   "source": [
    "So, UPC number and FineLineNumber have the same amount of null values -- could be that these items did not have scannable bar codes.\n",
    "\n",
    "<br>\n",
    "<br>\n",
    "\n",
    "DepartmentDescription null values are likely due to them not being recorded"
   ]
  },
  {
   "cell_type": "code",
   "execution_count": null,
   "metadata": {},
   "outputs": [],
   "source": []
  }
 ]
}